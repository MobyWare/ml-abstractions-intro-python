{
 "cells": [
  {
   "cell_type": "markdown",
   "metadata": {},
   "source": [
    "# ML Community Workshop - Linear Regression with SciKitLearn\n",
    "\n",
    "## Goals\n",
    "* Demo and explain Linear regression\n",
    "* Show why encoding features is important.\n",
    "\n",
    "## Agenda\n",
    "1. Read and visualize data\n",
    "2. Review Linear Regression\n",
    "3. Evaluate Linear Regression without encoding\n",
    "4. Evaluate Linear Regression with encoding"
   ]
  },
  {
   "cell_type": "markdown",
   "metadata": {},
   "source": [
    "## Part 1 - Read and Visualize the Data"
   ]
  },
  {
   "cell_type": "markdown",
   "metadata": {},
   "source": [
    "### Import libraries"
   ]
  },
  {
   "cell_type": "code",
   "execution_count": null,
   "metadata": {
    "collapsed": false
   },
   "outputs": [],
   "source": [
    "%matplotlib inline\n",
    "import numpy as np\n",
    "import matplotlib.pyplot as plt\n",
    "import pandas as pd\n",
    "\n",
    "from sklearn.cross_validation import train_test_split\n",
    "from sklearn.linear_model import LinearRegression\n",
    "from sklearn import metrics"
   ]
  },
  {
   "cell_type": "markdown",
   "metadata": {},
   "source": [
    "### Read data into a new dataframe"
   ]
  },
  {
   "cell_type": "markdown",
   "metadata": {},
   "source": [
    "#### Read into DataFrame"
   ]
  },
  {
   "cell_type": "code",
   "execution_count": null,
   "metadata": {
    "collapsed": true
   },
   "outputs": [],
   "source": [
    "housing_data = pd.read_csv('home_data.csv')"
   ]
  },
  {
   "cell_type": "markdown",
   "metadata": {},
   "source": [
    "#### Check out the data"
   ]
  },
  {
   "cell_type": "code",
   "execution_count": null,
   "metadata": {
    "collapsed": false
   },
   "outputs": [],
   "source": [
    "# Show first few rows with headings\n",
    "housing_data.head()"
   ]
  },
  {
   "cell_type": "code",
   "execution_count": null,
   "metadata": {
    "collapsed": false
   },
   "outputs": [],
   "source": [
    "#List column names\n",
    "print list(housing_data.columns.values)"
   ]
  },
  {
   "cell_type": "markdown",
   "metadata": {},
   "source": [
    "### Plot _price_ vs. *sqft_living*: is there a correlation?"
   ]
  },
  {
   "cell_type": "code",
   "execution_count": null,
   "metadata": {
    "collapsed": false
   },
   "outputs": [],
   "source": [
    "housing_data.plot(kind='scatter', x='sqft_living', y='price', xlim=(0,16000))"
   ]
  },
  {
   "cell_type": "markdown",
   "metadata": {},
   "source": [
    "## Part 2 - Review Linear Regression"
   ]
  },
  {
   "cell_type": "markdown",
   "metadata": {},
   "source": [
    "### Store feature data in _X_ and Target in _Y_"
   ]
  },
  {
   "cell_type": "code",
   "execution_count": null,
   "metadata": {
    "collapsed": false
   },
   "outputs": [],
   "source": [
    "X = housing_data.sqft_living\n",
    "y = housing_data.price"
   ]
  },
  {
   "cell_type": "markdown",
   "metadata": {},
   "source": [
    "### Create a train-test split of the data using *train_test_split*"
   ]
  },
  {
   "cell_type": "code",
   "execution_count": null,
   "metadata": {
    "collapsed": true
   },
   "outputs": [],
   "source": [
    "X_train, X_test, y_train, y_test = train_test_split(X, y, test_size = 0.2)"
   ]
  },
  {
   "cell_type": "code",
   "execution_count": null,
   "metadata": {
    "collapsed": false
   },
   "outputs": [],
   "source": [
    "y_train.shape"
   ]
  },
  {
   "cell_type": "markdown",
   "metadata": {},
   "source": [
    "#### The _shape_ properties are missing a dimension, so fix this for *Feature and Target variables for train and test*"
   ]
  },
  {
   "cell_type": "code",
   "execution_count": null,
   "metadata": {
    "collapsed": false
   },
   "outputs": [],
   "source": [
    "#Feature variables\n",
    "X_train, X_test = X_train.reshape((17290, 1)), X_test.reshape((4323,1))\n",
    "\n",
    "#Target variables\n",
    "y_train, y_test = y_train.reshape((17290,1)), y_test.reshape((4323,1))\n",
    "\n",
    "#Quick sanity check on target variable\n",
    "y_train.shape"
   ]
  },
  {
   "cell_type": "markdown",
   "metadata": {},
   "source": [
    "#### Train the model using the *fit* function of the *LinearRegression* object."
   ]
  },
  {
   "cell_type": "code",
   "execution_count": null,
   "metadata": {
    "collapsed": false
   },
   "outputs": [],
   "source": [
    "lin_reg = LinearRegression()\n",
    "lin_reg.fit(X_train, y_train)"
   ]
  },
  {
   "cell_type": "markdown",
   "metadata": {},
   "source": [
    "### Evaluate the model"
   ]
  },
  {
   "cell_type": "code",
   "execution_count": null,
   "metadata": {
    "collapsed": false
   },
   "outputs": [],
   "source": [
    "y_pred = lin_reg.predict(X_test)\n",
    "\n",
    "print ('RMSE with size only: {:,.2f}'.format(np.sqrt(metrics.mean_squared_error(y_test, y_pred))))\n",
    "print ('RMSE (standard): {:,.2f}'.format(np.sqrt(metrics.mean_squared_error(y_test, [y_test.mean()] * len(y_test)))))"
   ]
  },
  {
   "cell_type": "markdown",
   "metadata": {},
   "source": [
    "### Plot the model with the data"
   ]
  },
  {
   "cell_type": "code",
   "execution_count": null,
   "metadata": {
    "collapsed": false
   },
   "outputs": [],
   "source": [
    "plt.plot(X_test, y_test, '.', X_test, y_pred, '-')"
   ]
  },
  {
   "cell_type": "markdown",
   "metadata": {},
   "source": [
    "## Part 3 - Evaluate Linear Regression without encoding"
   ]
  },
  {
   "cell_type": "markdown",
   "metadata": {},
   "source": [
    "### Plot *price* vs. *zipcode*"
   ]
  },
  {
   "cell_type": "code",
   "execution_count": null,
   "metadata": {
    "collapsed": false
   },
   "outputs": [],
   "source": [
    "housing_data.plot(kind='scatter', x='zipcode', y='price')"
   ]
  },
  {
   "cell_type": "markdown",
   "metadata": {},
   "source": [
    "### Let's build a model by adding zipcode without encoding and evaluate it."
   ]
  },
  {
   "cell_type": "code",
   "execution_count": null,
   "metadata": {
    "collapsed": true
   },
   "outputs": [],
   "source": [
    "feature_subset = ['sqft_living', 'zipcode']"
   ]
  },
  {
   "cell_type": "code",
   "execution_count": null,
   "metadata": {
    "collapsed": false
   },
   "outputs": [],
   "source": [
    "X_feature_subset = housing_data[feature_subset]\n",
    "X_train_feature_subset, X_test_feature_subset, y_train_feature_subset, y_test_feature_subset = train_test_split(X_feature_subset, y, test_size = 0.2)"
   ]
  },
  {
   "cell_type": "markdown",
   "metadata": {
    "collapsed": false
   },
   "source": [
    "### Train the model"
   ]
  },
  {
   "cell_type": "code",
   "execution_count": null,
   "metadata": {
    "collapsed": false
   },
   "outputs": [],
   "source": [
    "lin_reg_feature_subset = LinearRegression()\n",
    "lin_reg_feature_subset.fit(X_train_feature_subset, y_train_feature_subset)"
   ]
  },
  {
   "cell_type": "markdown",
   "metadata": {
    "collapsed": false
   },
   "source": [
    "### Evaluate the model with size with zip code (unencoded)"
   ]
  },
  {
   "cell_type": "code",
   "execution_count": null,
   "metadata": {
    "collapsed": false
   },
   "outputs": [],
   "source": [
    "y_pred_feature_subset = lin_reg_feature_subset.predict(X_test_feature_subset)\n",
    "print('RMSE with size & zip: {:,.2f}'.format(np.sqrt(metrics.mean_squared_error(y_test_feature_subset, y_pred_feature_subset))))\n",
    "print (\n",
    "    'RMSE (standard): {:,.2f}'.format(\n",
    "        np.sqrt(metrics.mean_squared_error(y_test_feature_subset,[y_test_feature_subset.mean()] * len(y_pred_feature_subset)))))"
   ]
  },
  {
   "cell_type": "markdown",
   "metadata": {},
   "source": [
    "## Part 4 - Evaluate Linear Regression with encoding"
   ]
  },
  {
   "cell_type": "markdown",
   "metadata": {},
   "source": [
    "#### Get features subset from main dataset"
   ]
  },
  {
   "cell_type": "code",
   "execution_count": null,
   "metadata": {
    "collapsed": false
   },
   "outputs": [],
   "source": [
    "X_feature_one_hot = housing_data[feature_subset]\n",
    "X_feature_one_hot.zipcode = X_feature_one_hot.zipcode.map(lambda z: str(z))"
   ]
  },
  {
   "cell_type": "markdown",
   "metadata": {},
   "source": [
    "### Encode the zipcode with custom function *one_hot_dataframe*.\n",
    "Got code from [here](https://gist.github.com/saihttam/cad6d3d223fc8d769227). It uses sklearn.feature_extraction.*DictVectorizer*."
   ]
  },
  {
   "cell_type": "code",
   "execution_count": null,
   "metadata": {
    "collapsed": false
   },
   "outputs": [],
   "source": [
    "from ohe import one_hot_dataframe\n",
    "\n",
    "X_feature_ohe,categorical,_ = one_hot_dataframe(X_feature_one_hot, ['zipcode'], True)\n",
    "X_feature_ohe.head()"
   ]
  },
  {
   "cell_type": "markdown",
   "metadata": {},
   "source": [
    "### Train the model"
   ]
  },
  {
   "cell_type": "code",
   "execution_count": null,
   "metadata": {
    "collapsed": false
   },
   "outputs": [],
   "source": [
    "X_train_feature_ohe, X_test_feature_ohe, y_train_feature_ohe, y_test_feature_ohe = train_test_split(X_feature_ohe, y, test_size = 0.2)\n",
    "lin_reg_feature_ohe = LinearRegression()\n",
    "lin_reg_feature_ohe.fit(X_train_feature_ohe, y_train_feature_ohe)"
   ]
  },
  {
   "cell_type": "markdown",
   "metadata": {},
   "source": [
    "### Evaluate the model with size & encoded zip"
   ]
  },
  {
   "cell_type": "code",
   "execution_count": null,
   "metadata": {
    "collapsed": false
   },
   "outputs": [],
   "source": [
    "y_pred_feature_ohe = lin_reg_feature_ohe.predict(X_test_feature_ohe)\n",
    "print ('RMSE with size & encoded zip: {:,.2f}'.format(np.sqrt(metrics.mean_squared_error(y_test_feature_ohe, y_pred_feature_ohe))))\n",
    "print ('RMSE (standard): {:,.2f}'.format(np.sqrt(metrics.mean_squared_error(y_test_feature_ohe, [y_test_feature_ohe.mean()] * len(y_test_feature_ohe)))))"
   ]
  }
 ],
 "metadata": {
  "kernelspec": {
   "display_name": "Python 2",
   "language": "python",
   "name": "python2"
  },
  "language_info": {
   "codemirror_mode": {
    "name": "ipython",
    "version": 2
   },
   "file_extension": ".py",
   "mimetype": "text/x-python",
   "name": "python",
   "nbconvert_exporter": "python",
   "pygments_lexer": "ipython2",
   "version": "2.7.10"
  }
 },
 "nbformat": 4,
 "nbformat_minor": 0
}
